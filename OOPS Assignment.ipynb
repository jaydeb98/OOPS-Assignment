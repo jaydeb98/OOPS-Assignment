{
 "cells": [
  {
   "cell_type": "code",
   "execution_count": null,
   "id": "fa3b1037-48b8-4492-8935-c97a745e590b",
   "metadata": {},
   "outputs": [],
   "source": [
    "#1.\n",
    "\n",
    "The function which is used to open a file is \"open()\". There are various modes to open a file, such as reading, writing, or both.\n",
    "\n",
    "'r': Read mode - Opens the file for reading (default mode). \n",
    "\n",
    "'w': Write mode - Opens the file for writing. If the file already exists, it will be truncated (emptied), and if it does not exist, a new file will be created.\n",
    "\n",
    "'a': Append mode - Opens the file for writing, but the file pointer is placed at the end of the file, so anything written will be added to the end of the file rather than overwriting the existing content. \n",
    "\n",
    "'x': Exclusive creation mode - Opens the file for writing, but it will fail if the file already exists.\n",
    "\n",
    "'b': Binary mode - Opens the file in binary mode for reading or writing. This is typically used when dealing with non-text files.\n",
    "\n",
    "'t': Text mode - Opens the file in text mode for reading or writing (default mode).\n",
    "\n",
    "'+': Update mode - Allows both reading and writing."
   ]
  },
  {
   "cell_type": "code",
   "execution_count": null,
   "id": "317a70f1-2122-4ffd-9f16-a8993e377c1d",
   "metadata": {},
   "outputs": [],
   "source": [
    "#2. \n",
    "\n",
    "The close() function is used in Python to close an open file. \n",
    "It's important to close a file after using it, to release resources, ensure data integrity, prevent locking issues, and avoid file corruption."
   ]
  },
  {
   "cell_type": "code",
   "execution_count": 6,
   "id": "69ba7484-7b8c-450a-8184-22019c6164af",
   "metadata": {},
   "outputs": [
    {
     "name": "stdout",
     "output_type": "stream",
     "text": [
      "I want to become a Data Scientist\n"
     ]
    }
   ],
   "source": [
    "#3.\n",
    "\n",
    "def new_file():\n",
    "    file = open('data_scientist.txt', 'w')\n",
    "    file.write('I want to become a Data Scientist')\n",
    "    file.close()\n",
    "\n",
    "def read_file():\n",
    "    file = open('data_scientist.txt', 'r')\n",
    "    content = file.read()\n",
    "    file.close()\n",
    "    return content\n",
    "\n",
    "# Step 1: Create and write to the file\n",
    "new_file()\n",
    "\n",
    "# Step 2: Read the content of the file\n",
    "file_content = read_file()\n",
    "\n",
    "# Step 3: Display the content\n",
    "print(file_content)\n"
   ]
  },
  {
   "cell_type": "code",
   "execution_count": null,
   "id": "a47b797a-98e0-4fda-9949-c8627f8dec1e",
   "metadata": {},
   "outputs": [],
   "source": [
    "#4.\n",
    "\n",
    "In Python, we use read(), readline(), and readlines() method for the following purpose:\n",
    "    \n",
    "read(): Reads the entire content of the file as a single string.\n",
    "\n",
    "readline(): Reads a single line from the file as a string.\n",
    "\n",
    "readlines(): Reads all lines from the file and returns them as a list of strings, where each element represents one line."
   ]
  },
  {
   "cell_type": "code",
   "execution_count": null,
   "id": "c73a236d-7190-4ce2-b48b-5af9b8f480f8",
   "metadata": {},
   "outputs": [],
   "source": [
    "#5. \n",
    "\n",
    "The with statement is used with the open() function in Python to ensure that files are automatically closed after their block of code finishes executing. \n",
    "It provides a clean and concise way of managing file resources.\n",
    "\n",
    "Advantages of using the with statement with open():\n",
    "    \n",
    "1. Automatic Resource Management\n",
    "2. Exception Handling\n",
    "3. Readability and Maintainability"
   ]
  },
  {
   "cell_type": "code",
   "execution_count": null,
   "id": "2b98f5bb-140e-4384-9ead-710cb192ccdd",
   "metadata": {},
   "outputs": [],
   "source": [
    "#6.\n",
    "\n",
    "write(): The write() function is used to write a single string of data to a file. \n",
    "It appends the specified content to the file, starting from the current file position.\n",
    "\n",
    "Example: \n",
    "    \n",
    "def write_to_file():\n",
    "    # Open the file in write mode\n",
    "    with open('ds.txt', 'w') as file:\n",
    "        file.write('This is a data science project.\\n')\n",
    "        file.write('Writing to a file in this project.\\n')\n",
    "        file.write('Goodbye!')\n",
    "\n",
    "# Call the function to write to the file\n",
    "write_to_file()\n",
    "\n",
    "writelines(): The writelines() function is used to write a list of strings to a file. \n",
    "Each element of the list represents a line, and they are written to the file consecutively, starting from the current file position. \n",
    "\n",
    "Example:\n",
    "\n"
   ]
  }
 ],
 "metadata": {
  "kernelspec": {
   "display_name": "Python 3 (ipykernel)",
   "language": "python",
   "name": "python3"
  },
  "language_info": {
   "codemirror_mode": {
    "name": "ipython",
    "version": 3
   },
   "file_extension": ".py",
   "mimetype": "text/x-python",
   "name": "python",
   "nbconvert_exporter": "python",
   "pygments_lexer": "ipython3",
   "version": "3.10.8"
  }
 },
 "nbformat": 4,
 "nbformat_minor": 5
}
